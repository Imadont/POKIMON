{
 "cells": [
  {
   "cell_type": "code",
   "execution_count": 1,
   "id": "423fa3c7-a18c-4f31-ac32-21f099a55331",
   "metadata": {},
   "outputs": [
    {
     "name": "stderr",
     "output_type": "stream",
     "text": [
      "* Owlready2 * Warning: optimized Cython parser module 'owlready2_optimized' is not available, defaulting to slower Python implementation\n"
     ]
    }
   ],
   "source": [
    "import owlready2 as owl\n",
    "from owlready2 import *"
   ]
  },
  {
   "cell_type": "code",
   "execution_count": null,
   "id": "6602c5cd-b6df-4d93-98cd-d166f909e0bf",
   "metadata": {},
   "outputs": [],
   "source": []
  },
  {
   "cell_type": "code",
   "execution_count": null,
   "id": "e56991fe-4962-4a7c-b429-b5bd2b20d00e",
   "metadata": {},
   "outputs": [],
   "source": []
  },
  {
   "cell_type": "code",
   "execution_count": 3,
   "id": "e557898a-5a0a-42fd-a20b-56d275d1e58e",
   "metadata": {},
   "outputs": [],
   "source": [
    "ont = get_ontology(\"test_pk_pyth.owl\").load()"
   ]
  },
  {
   "cell_type": "code",
   "execution_count": 4,
   "id": "5a418df1-6afe-40b1-9cbc-f897eb9a3bc8",
   "metadata": {},
   "outputs": [
    {
     "data": {
      "text/plain": [
       "[test_pk_pyth.IQE,\n",
       " test_pk_pyth.ICE,\n",
       " test_pk_pyth.Information_Entity,\n",
       " test_pk_pyth.Spatial_Space,\n",
       " test_pk_pyth.Spatial_Dimension,\n",
       " test_pk_pyth.Abstract_Model,\n",
       " test_pk_pyth.Reference_Space,\n",
       " test_pk_pyth.Generically_Dependent_Continuant,\n",
       " test_pk_pyth.Process,\n",
       " test_pk_pyth.Specifically_Dependent_Continuant,\n",
       " test_pk_pyth.Quality,\n",
       " test_pk_pyth.Realizable_Entity,\n",
       " test_pk_pyth.Origin,\n",
       " test_pk_pyth.Plan_Specification,\n",
       " test_pk_pyth.Disposition,\n",
       " test_pk_pyth.Represented_Model,\n",
       " test_pk_pyth.Abstract_Geological_Model,\n",
       " test_pk_pyth.Action_Specification,\n",
       " test_pk_pyth.Adding_Entity_Algorithm,\n",
       " test_pk_pyth.Algorithm,\n",
       " test_pk_pyth.Adding_Entity_Process,\n",
       " test_pk_pyth.Planned_Process,\n",
       " test_pk_pyth.Agent,\n",
       " test_pk_pyth.Independent_Continuant,\n",
       " test_pk_pyth.Amplitude,\n",
       " test_pk_pyth.Defining_Quality,\n",
       " test_pk_pyth.Analysis,\n",
       " test_pk_pyth.Proposition_Content_Entity,\n",
       " test_pk_pyth.Anomaly,\n",
       " test_pk_pyth.Situation,\n",
       " test_pk_pyth.Evaluation_Process,\n",
       " test_pk_pyth.Anthropic_Process,\n",
       " test_pk_pyth.Anticline,\n",
       " test_pk_pyth.Fold,\n",
       " test_pk_pyth.Antiform,\n",
       " test_pk_pyth.Assumed,\n",
       " test_pk_pyth.Attribute_Content_Entity,\n",
       " test_pk_pyth.Certainty,\n",
       " test_pk_pyth.Complex_Modify,\n",
       " test_pk_pyth.Modifying_Entity_Process,\n",
       " test_pk_pyth.Conceptual_Anomaly,\n",
       " test_pk_pyth.Conceptual_Geological_Model,\n",
       " test_pk_pyth.Spatio_Temporal_Space,\n",
       " test_pk_pyth.Continuant,\n",
       " test_pk_pyth.Continuat_Aggregate,\n",
       " test_pk_pyth.Cross_Section,\n",
       " test_pk_pyth.Transect,\n",
       " test_pk_pyth.Decision_Algorithm,\n",
       " test_pk_pyth.Decision_Process,\n",
       " test_pk_pyth.Deleting_Entity_Algorithm,\n",
       " test_pk_pyth.Deleting_Entity_Process,\n",
       " test_pk_pyth.Description,\n",
       " test_pk_pyth.Deterministic,\n",
       " test_pk_pyth.Technique,\n",
       " test_pk_pyth.Deterministic_Specification,\n",
       " test_pk_pyth.Disposition_To_Be_Deleted,\n",
       " test_pk_pyth.Disposition_To_Be_Enriched,\n",
       " test_pk_pyth.Disposition_To_Be_Modified,\n",
       " test_pk_pyth.Drawing,\n",
       " test_pk_pyth.Image,\n",
       " test_pk_pyth.Estimation_Process,\n",
       " test_pk_pyth.Evaluation,\n",
       " test_pk_pyth.Evaluation_Algorithm,\n",
       " test_pk_pyth.Excplicit_Modeling,\n",
       " test_pk_pyth.3D_Structural_Modeling,\n",
       " test_pk_pyth.Fault,\n",
       " test_pk_pyth.Geological_Structure,\n",
       " test_pk_pyth.Feature_Space,\n",
       " test_pk_pyth.Temporal_Space,\n",
       " test_pk_pyth.Shape,\n",
       " test_pk_pyth.Fold_Hinge,\n",
       " test_pk_pyth.Fold_Limb,\n",
       " test_pk_pyth.Functional_Entity,\n",
       " test_pk_pyth.Geologic_Entity,\n",
       " test_pk_pyth.Geologic_Situation,\n",
       " test_pk_pyth.Geological_Map_Legend,\n",
       " test_pk_pyth.Geological_Process,\n",
       " test_pk_pyth.Natural_Process,\n",
       " test_pk_pyth.Rock_Body,\n",
       " test_pk_pyth.Geological_Unit,\n",
       " test_pk_pyth.Geometric_Volumetric_Figure,\n",
       " test_pk_pyth.Physical_Volumetric_Figure,\n",
       " test_pk_pyth.Geophysical_Surfacic_Figure,\n",
       " test_pk_pyth.Physical_Surfacic_Figure,\n",
       " test_pk_pyth.Geophysical_Volumetric_Figure,\n",
       " test_pk_pyth.Hybrid,\n",
       " test_pk_pyth.Hybrid_Specification,\n",
       " test_pk_pyth.IA,\n",
       " test_pk_pyth.Syntax,\n",
       " test_pk_pyth.Implicit_Modeling,\n",
       " test_pk_pyth.Input,\n",
       " test_pk_pyth.Role,\n",
       " test_pk_pyth.Input_Selection,\n",
       " test_pk_pyth.Selection_Process,\n",
       " test_pk_pyth.Instantiating_Process,\n",
       " test_pk_pyth.Intelligent_Based,\n",
       " test_pk_pyth.Interpretation_Process,\n",
       " test_pk_pyth.Interpretation_Selection,\n",
       " test_pk_pyth.Interpreted,\n",
       " test_pk_pyth.Inverse_Fault,\n",
       " test_pk_pyth.Knowledge_Modeling,\n",
       " test_pk_pyth.Modeling_Process,\n",
       " test_pk_pyth.Kriging,\n",
       " test_pk_pyth.Location,\n",
       " test_pk_pyth.Logical_Reasoning_Based,\n",
       " test_pk_pyth.ML_Based,\n",
       " test_pk_pyth.ML_Specification,\n",
       " test_pk_pyth.Machine_Learning_Content_Entity,\n",
       " test_pk_pyth.Map,\n",
       " test_pk_pyth.Material_Entity,\n",
       " test_pk_pyth.Modifying_Entity_Algoirhtm,\n",
       " test_pk_pyth.Natural_Law,\n",
       " test_pk_pyth.Normal_Fault,\n",
       " test_pk_pyth.Objective_Specification,\n",
       " test_pk_pyth.Observation_Process,\n",
       " test_pk_pyth.Observed,\n",
       " test_pk_pyth.Occurent,\n",
       " test_pk_pyth.Output,\n",
       " test_pk_pyth.Part,\n",
       " test_pk_pyth.Photography,\n",
       " test_pk_pyth.Surfacic_Figure,\n",
       " test_pk_pyth.Volumetric_Figure,\n",
       " test_pk_pyth.Probabilistic,\n",
       " test_pk_pyth.Procedure,\n",
       " test_pk_pyth.Quality_Anomaly,\n",
       " test_pk_pyth.RBF,\n",
       " test_pk_pyth.Random,\n",
       " test_pk_pyth.Random_Specification,\n",
       " test_pk_pyth.Reasoning_Based_Specification,\n",
       " test_pk_pyth.Reasoning_Process,\n",
       " test_pk_pyth.Relative_Location,\n",
       " test_pk_pyth.Representational_Quality,\n",
       " test_pk_pyth.Represented_Geological_Model,\n",
       " test_pk_pyth.Resolution,\n",
       " test_pk_pyth.Retrieving_Related_Information,\n",
       " test_pk_pyth.Scale,\n",
       " test_pk_pyth.Seismic_Profile,\n",
       " test_pk_pyth.Selection,\n",
       " test_pk_pyth.Selection_Algorithm,\n",
       " test_pk_pyth.Simple_Modify,\n",
       " test_pk_pyth.Situation_Selection,\n",
       " test_pk_pyth.Size,\n",
       " test_pk_pyth.Sketch,\n",
       " test_pk_pyth.Space_Time_Geological_Model,\n",
       " test_pk_pyth.Strategy,\n",
       " test_pk_pyth.Stratigraphic_Column,\n",
       " test_pk_pyth.Strike_Slip_Fault,\n",
       " test_pk_pyth.Summary,\n",
       " test_pk_pyth.Visual_Content_Entity,\n",
       " test_pk_pyth.Syncline,\n",
       " test_pk_pyth.Synform,\n",
       " test_pk_pyth.Unplanned_Process,\n",
       " test_pk_pyth.User_Based,\n",
       " test_pk_pyth.User_Based_Specification,\n",
       " test_pk_pyth.Wavelength,\n",
       " test_pk_pyth.Workflow,\n",
       " test_pk_pyth.1D,\n",
       " test_pk_pyth.2D,\n",
       " test_pk_pyth.3D]"
      ]
     },
     "execution_count": 4,
     "metadata": {},
     "output_type": "execute_result"
    }
   ],
   "source": [
    "list(ont.classes())"
   ]
  },
  {
   "cell_type": "code",
   "execution_count": 22,
   "id": "64927a1f-1cee-4926-8aeb-9b7f95fe01bf",
   "metadata": {
    "scrolled": true
   },
   "outputs": [
    {
     "name": "stderr",
     "output_type": "stream",
     "text": [
      "* Owlready2 * Running HermiT...\n",
      "    java -Xmx2000M -cp D:\\Anaconda\\envs\\test_all\\lib\\site-packages\\owlready2\\hermit;D:\\Anaconda\\envs\\test_all\\lib\\site-packages\\owlready2\\hermit\\HermiT.jar org.semanticweb.HermiT.cli.CommandLine -c -O -D -I file:///C:/Users/ilaouici/AppData/Local/Temp/tmpci8q6nv1\n",
      "* Owlready2 * HermiT took 1.9907636642456055 seconds\n",
      "* Owlready * Reparenting untitled-ontology-778.Abstract_Model: {untitled-ontology-778.ICE} => {untitled-ontology-778.ICE, untitled-ontology-778.Represented_Model}\n",
      "* Owlready * Reparenting untitled-ontology-778.IQE: {owl.Thing} => {untitled-ontology-778.Quality}\n",
      "* Owlready * Reparenting untitled-ontology-778.Planned_Process: {untitled-ontology-778.Process} => {untitled-ontology-778.Process, untitled-ontology-778.Represented_Model}\n",
      "* Owlready * Reparenting untitled-ontology-778.has_Structural_Part: {owl.ObjectProperty, untitled-ontology-778.has_Part} => {untitled-ontology-778.has_Part}\n",
      "* Owlready * Reparenting untitled-ontology-778.has_Anomalic_Part: {owl.ObjectProperty, untitled-ontology-778.has_Part} => {untitled-ontology-778.has_Part}\n",
      "* Owlready * Reparenting untitled-ontology-778.inheres_In: {owl.ObjectProperty, untitled-ontology-778.is_Specifically_Dependant_On} => {untitled-ontology-778.is_Specifically_Dependant_On}\n",
      "* Owlready * Reparenting untitled-ontology-778.satisfies: {owl.ObjectProperty, untitled-ontology-778.is_Specifically_Dependant_On} => {untitled-ontology-778.is_Specifically_Dependant_On}\n",
      "* Owlready * Reparenting untitled-ontology-778.is_Concretized_By: {owl.ObjectProperty, untitled-ontology-778.is_Generically_Dependant_On} => {untitled-ontology-778.has_Specific_Dependant, untitled-ontology-778.is_Generically_Dependant_On}\n",
      "* Owlready * Reparenting untitled-ontology-778.is_Satisfied_By: {owl.ObjectProperty, untitled-ontology-778.has_Specific_Dependant} => {untitled-ontology-778.has_Specific_Dependant}\n",
      "* Owlready * Reparenting untitled-ontology-778.is_Simplified_By: {owl.ObjectProperty, untitled-ontology-778.is_Subject_Of} => {untitled-ontology-778.is_Subject_Of}\n",
      "* Owlready * Reparenting untitled-ontology-778.is_Prescribed_By: {owl.ObjectProperty, untitled-ontology-778.is_Subject_Of} => {untitled-ontology-778.is_Subject_Of}\n",
      "* Owlready * Reparenting untitled-ontology-778.has_Output: {owl.ObjectProperty, untitled-ontology-778.has_Participant} => {untitled-ontology-778.has_Participant}\n",
      "* Owlready * Reparenting untitled-ontology-778.has_Input: {owl.ObjectProperty, untitled-ontology-778.has_Participant} => {untitled-ontology-778.has_Participant}\n",
      "* Owlready * Reparenting untitled-ontology-778.represents: {owl.ObjectProperty, untitled-ontology-778.concretizes} => {untitled-ontology-778.concretizes}\n",
      "* Owlready * Reparenting untitled-ontology-778.is_Structural_Part_Of: {owl.ObjectProperty, untitled-ontology-778.is_Part_Of} => {untitled-ontology-778.is_Part_Of}\n",
      "* Owlready * Reparenting untitled-ontology-778.is_Input_Of: {owl.ObjectProperty, untitled-ontology-778.participates_In} => {untitled-ontology-778.participates_In}\n",
      "* Owlready * Reparenting untitled-ontology-778.Interprets: {owl.ObjectProperty, untitled-ontology-778.is_About} => {untitled-ontology-778.is_About}\n",
      "* Owlready * Reparenting untitled-ontology-778.details: {owl.ObjectProperty, untitled-ontology-778.is_About} => {untitled-ontology-778.is_About}\n",
      "* Owlready * Reparenting untitled-ontology-778.designates: {owl.ObjectProperty, untitled-ontology-778.is_About} => {untitled-ontology-778.is_About}\n",
      "* Owlready * Reparenting untitled-ontology-778.simplifies: {owl.ObjectProperty, untitled-ontology-778.is_About} => {untitled-ontology-778.is_About}\n",
      "* Owlready * (NB: only changes on entities loaded in Python are shown, other changes are done but not listed)\n"
     ]
    }
   ],
   "source": [
    "sync_reasoner()"
   ]
  },
  {
   "cell_type": "code",
   "execution_count": 34,
   "id": "2899d137-232d-4afd-b96a-6c2375f77826",
   "metadata": {},
   "outputs": [],
   "source": []
  },
  {
   "cell_type": "code",
   "execution_count": 5,
   "id": "370fd7d9-b685-4507-8187-8fa871013fd5",
   "metadata": {},
   "outputs": [
    {
     "data": {
      "text/plain": [
       "[]"
      ]
     },
     "execution_count": 5,
     "metadata": {},
     "output_type": "execute_result"
    }
   ],
   "source": [
    "list(ont.individuals())"
   ]
  },
  {
   "cell_type": "code",
   "execution_count": 6,
   "id": "daed0363-a785-4444-abe7-8add80ef2824",
   "metadata": {},
   "outputs": [
    {
     "data": {
      "text/plain": [
       "[test_pk_pyth.has_Time_Stamp,\n",
       " test_pk_pyth.has_Unit_Of_Measure,\n",
       " test_pk_pyth.has_Value,\n",
       " test_pk_pyth.Interprets,\n",
       " test_pk_pyth.is_About,\n",
       " test_pk_pyth.Is_Output_Of,\n",
       " test_pk_pyth.participates_In,\n",
       " test_pk_pyth.has_Output,\n",
       " test_pk_pyth.Substitutes,\n",
       " test_pk_pyth.bearer_Of,\n",
       " test_pk_pyth.inheres_In,\n",
       " test_pk_pyth.concretizes,\n",
       " test_pk_pyth.is_Specifically_Dependant_On,\n",
       " test_pk_pyth.is_Concretized_By,\n",
       " test_pk_pyth.designates,\n",
       " test_pk_pyth.details,\n",
       " test_pk_pyth.is_Detailed_By,\n",
       " test_pk_pyth.explains,\n",
       " test_pk_pyth.is_Explained_By,\n",
       " test_pk_pyth.governs,\n",
       " test_pk_pyth.is_Governed_By,\n",
       " test_pk_pyth.has_Action_Specification,\n",
       " test_pk_pyth.has_Anomalic_Part,\n",
       " test_pk_pyth.has_Part,\n",
       " test_pk_pyth.is_Anomalic_Part_Of,\n",
       " test_pk_pyth.has_Dimension,\n",
       " test_pk_pyth.has_Disposition_To,\n",
       " test_pk_pyth.has_Disposition_To_Be_Represented_In,\n",
       " test_pk_pyth.has_Evaluation,\n",
       " test_pk_pyth.is_Evlauation_Of,\n",
       " test_pk_pyth.has_Generic_Dependant,\n",
       " test_pk_pyth.is_Generically_Dependant_On,\n",
       " test_pk_pyth.has_Input,\n",
       " test_pk_pyth.has_Participant,\n",
       " test_pk_pyth.is_Input_Of,\n",
       " test_pk_pyth.has_Objective_Specification,\n",
       " test_pk_pyth.has_Origin,\n",
       " test_pk_pyth.is_Part_Of,\n",
       " test_pk_pyth.has_Quality,\n",
       " test_pk_pyth.has_Shape,\n",
       " test_pk_pyth.has_Specific_Dependant,\n",
       " test_pk_pyth.has_Structural_Part,\n",
       " test_pk_pyth.is_Structural_Part_Of,\n",
       " test_pk_pyth.is_Subject_Of,\n",
       " test_pk_pyth.is_Origin_Quality_Of,\n",
       " test_pk_pyth.is_Prescribed_By,\n",
       " test_pk_pyth.prescribes,\n",
       " test_pk_pyth.is_Satisfied_By,\n",
       " test_pk_pyth.satisfies,\n",
       " test_pk_pyth.is_Simplified_By,\n",
       " test_pk_pyth.simplifies,\n",
       " test_pk_pyth.plays_Role,\n",
       " test_pk_pyth.realizes,\n",
       " test_pk_pyth.represents,\n",
       " test_pk_pyth.Criteria_For_Selection]"
      ]
     },
     "execution_count": 6,
     "metadata": {},
     "output_type": "execute_result"
    }
   ],
   "source": [
    "list(ont.properties())\n"
   ]
  },
  {
   "cell_type": "code",
   "execution_count": null,
   "id": "10dc04db-f9de-47d8-aa26-802791abeaa7",
   "metadata": {},
   "outputs": [],
   "source": []
  },
  {
   "cell_type": "code",
   "execution_count": 13,
   "id": "5765f505-90eb-488d-b3cd-0646dcb3311a",
   "metadata": {},
   "outputs": [
    {
     "name": "stderr",
     "output_type": "stream",
     "text": [
      "* Owlready2 * Running HermiT...\n",
      "    java -Xmx2000M -cp D:\\Anaconda\\envs\\test_all\\lib\\site-packages\\owlready2\\hermit;D:\\Anaconda\\envs\\test_all\\lib\\site-packages\\owlready2\\hermit\\HermiT.jar org.semanticweb.HermiT.cli.CommandLine -c -O -D -I file:///C:/Users/ilaouici/AppData/Local/Temp/tmppydd14n4 -Y\n",
      "* Owlready2 * HermiT took 0.6618824005126953 seconds\n",
      "* Owlready * Reparenting pk.is_Structural_Part_Of: {pk.is_Part_Of, owl.ObjectProperty} => {pk.is_Part_Of}\n",
      "* Owlready * Reparenting pk.simplifies: {pk.is_About, owl.ObjectProperty} => {pk.is_About}\n",
      "* Owlready * Reparenting pk.prescribes: {pk.is_About, owl.ObjectProperty} => {pk.is_About}\n",
      "* Owlready * Reparenting pk.details: {pk.is_About, owl.ObjectProperty} => {pk.is_About}\n",
      "* Owlready * Reparenting pk.concretizes: {pk.is_Specifically_Dependant_On, owl.ObjectProperty} => {pk.has_Generic_Dependant, pk.is_Specifically_Dependant_On}\n",
      "* Owlready * Reparenting pk.is_Detailed_By: {owl.ObjectProperty, pk.is_Subject_Of} => {pk.is_Subject_Of}\n",
      "* Owlready * Reparenting pk.is_Simplified_By: {owl.ObjectProperty, pk.is_Subject_Of} => {pk.is_Subject_Of}\n",
      "* Owlready * (NB: only changes on entities loaded in Python are shown, other changes are done but not listed)\n"
     ]
    }
   ],
   "source": [
    "sync_reasoner(infer_property_values= True)"
   ]
  },
  {
   "cell_type": "code",
   "execution_count": 9,
   "id": "f24dbf7b-c936-4ff1-a9f3-83a6f010f373",
   "metadata": {},
   "outputs": [
    {
     "data": {
      "text/plain": [
       "get_ontology(\"http://www.POKIMON#\")"
      ]
     },
     "execution_count": 9,
     "metadata": {},
     "output_type": "execute_result"
    }
   ],
   "source": [
    "ont.Fold.namespace"
   ]
  },
  {
   "cell_type": "code",
   "execution_count": 6,
   "id": "6531a122-9fff-4746-a51e-6ba4ab6b580f",
   "metadata": {},
   "outputs": [
    {
     "data": {
      "text/plain": [
       "[pk.pro_decision1]"
      ]
     },
     "execution_count": 6,
     "metadata": {},
     "output_type": "execute_result"
    }
   ],
   "source": [
    "ont.algo_decision.prescribes"
   ]
  },
  {
   "cell_type": "code",
   "execution_count": 2,
   "id": "84b14641-0f7c-41a2-b035-293901340085",
   "metadata": {},
   "outputs": [],
   "source": [
    "oc = get_ontology(\"test_cat.owl\").load()"
   ]
  },
  {
   "cell_type": "code",
   "execution_count": 5,
   "id": "025100b4-b867-4db1-814c-304e2e319fb2",
   "metadata": {},
   "outputs": [
    {
     "data": {
      "text/plain": [
       "[test_cat.cat]"
      ]
     },
     "execution_count": 5,
     "metadata": {},
     "output_type": "execute_result"
    }
   ],
   "source": [
    "oc.c1.is_a"
   ]
  },
  {
   "cell_type": "code",
   "execution_count": 4,
   "id": "86746ddf-2ce9-4d22-8e8d-03094b399fae",
   "metadata": {},
   "outputs": [
    {
     "name": "stderr",
     "output_type": "stream",
     "text": [
      "* Owlready2 * Running Pellet...\n",
      "    java -Xmx2000M -cp D:\\Anaconda\\envs\\test_all\\lib\\site-packages\\owlready2\\pellet\\antlr-3.2.jar;D:\\Anaconda\\envs\\test_all\\lib\\site-packages\\owlready2\\pellet\\antlr-runtime-3.2.jar;D:\\Anaconda\\envs\\test_all\\lib\\site-packages\\owlready2\\pellet\\aterm-java-1.6.jar;D:\\Anaconda\\envs\\test_all\\lib\\site-packages\\owlready2\\pellet\\commons-codec-1.6.jar;D:\\Anaconda\\envs\\test_all\\lib\\site-packages\\owlready2\\pellet\\httpclient-4.2.3.jar;D:\\Anaconda\\envs\\test_all\\lib\\site-packages\\owlready2\\pellet\\httpcore-4.2.2.jar;D:\\Anaconda\\envs\\test_all\\lib\\site-packages\\owlready2\\pellet\\jcl-over-slf4j-1.6.4.jar;D:\\Anaconda\\envs\\test_all\\lib\\site-packages\\owlready2\\pellet\\jena-arq-2.10.0.jar;D:\\Anaconda\\envs\\test_all\\lib\\site-packages\\owlready2\\pellet\\jena-core-2.10.0.jar;D:\\Anaconda\\envs\\test_all\\lib\\site-packages\\owlready2\\pellet\\jena-iri-0.9.5.jar;D:\\Anaconda\\envs\\test_all\\lib\\site-packages\\owlready2\\pellet\\jena-tdb-0.10.0.jar;D:\\Anaconda\\envs\\test_all\\lib\\site-packages\\owlready2\\pellet\\jgrapht-jdk1.5.jar;D:\\Anaconda\\envs\\test_all\\lib\\site-packages\\owlready2\\pellet\\log4j-1.2.16.jar;D:\\Anaconda\\envs\\test_all\\lib\\site-packages\\owlready2\\pellet\\owlapi-distribution-3.4.3-bin.jar;D:\\Anaconda\\envs\\test_all\\lib\\site-packages\\owlready2\\pellet\\pellet-2.3.1.jar;D:\\Anaconda\\envs\\test_all\\lib\\site-packages\\owlready2\\pellet\\slf4j-api-1.6.4.jar;D:\\Anaconda\\envs\\test_all\\lib\\site-packages\\owlready2\\pellet\\slf4j-log4j12-1.6.4.jar;D:\\Anaconda\\envs\\test_all\\lib\\site-packages\\owlready2\\pellet\\xercesImpl-2.10.0.jar;D:\\Anaconda\\envs\\test_all\\lib\\site-packages\\owlready2\\pellet\\xml-apis-1.4.01.jar pellet.Pellet realize --loader Jena --input-format N-Triples --infer-prop-values --infer-data-prop-values --ignore-imports C:\\Users\\ilaouici\\AppData\\Local\\Temp\\tmpve18ezdi\n",
      "* Owlready2 * Pellet took 5.0097198486328125 seconds\n",
      "* Owlready * Reparenting test_cat.c1: {owl.Thing} => {test_cat.cat}\n",
      "* Owlready * (NB: only changes on entities loaded in Python are shown, other changes are done but not listed)\n"
     ]
    }
   ],
   "source": [
    "sync_reasoner_pellet(infer_property_values = True, infer_data_property_values = True)"
   ]
  }
 ],
 "metadata": {
  "kernelspec": {
   "display_name": "Python 3 (ipykernel)",
   "language": "python",
   "name": "python3"
  },
  "language_info": {
   "codemirror_mode": {
    "name": "ipython",
    "version": 3
   },
   "file_extension": ".py",
   "mimetype": "text/x-python",
   "name": "python",
   "nbconvert_exporter": "python",
   "pygments_lexer": "ipython3",
   "version": "3.10.9"
  }
 },
 "nbformat": 4,
 "nbformat_minor": 5
}
