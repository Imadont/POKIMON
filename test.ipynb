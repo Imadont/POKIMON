{
 "cells": [
  {
   "cell_type": "code",
   "execution_count": 1,
   "id": "423fa3c7-a18c-4f31-ac32-21f099a55331",
   "metadata": {},
   "outputs": [],
   "source": [
    "import owlready2 as owl\n",
    "from owlready2 import *"
   ]
  },
  {
   "cell_type": "code",
   "execution_count": null,
   "id": "6602c5cd-b6df-4d93-98cd-d166f909e0bf",
   "metadata": {},
   "outputs": [],
   "source": []
  },
  {
   "cell_type": "code",
   "execution_count": null,
   "id": "e56991fe-4962-4a7c-b429-b5bd2b20d00e",
   "metadata": {},
   "outputs": [],
   "source": []
  },
  {
   "cell_type": "code",
   "execution_count": 2,
   "id": "e557898a-5a0a-42fd-a20b-56d275d1e58e",
   "metadata": {},
   "outputs": [],
   "source": [
    "ont = get_ontology(\"pk.owl\").load()"
   ]
  },
  {
   "cell_type": "code",
   "execution_count": 3,
   "id": "5a418df1-6afe-40b1-9cbc-f897eb9a3bc8",
   "metadata": {},
   "outputs": [
    {
     "data": {
      "text/plain": [
       "[pk.IQE,\n",
       " pk.ICE,\n",
       " pk.Information_Entity,\n",
       " pk.Spatial_Space,\n",
       " pk.Spatial_Dimension,\n",
       " pk.Abstract_Model,\n",
       " pk.Reference_Space,\n",
       " pk.Generically_Dependent_Continuant,\n",
       " pk.Process,\n",
       " pk.Specifically_Dependent_Continuant,\n",
       " pk.Quality,\n",
       " pk.Realizable_Entity,\n",
       " pk.Origin,\n",
       " pk.Plan_Specification,\n",
       " pk.Disposition,\n",
       " pk.Represented_Model,\n",
       " pk.Abstract_Geological_Model,\n",
       " pk.Action_Specification,\n",
       " pk.Adding_Entity_Algorithm,\n",
       " pk.Algorithm,\n",
       " pk.Adding_Entity_Process,\n",
       " pk.Planned_Process,\n",
       " pk.Agent,\n",
       " pk.Independent_Continuant,\n",
       " pk.Amplitude,\n",
       " pk.Defining_Quality,\n",
       " pk.Analysis,\n",
       " pk.Anomaly,\n",
       " pk.Situation,\n",
       " pk.Evaluation_Process,\n",
       " pk.Anthropic_Process,\n",
       " pk.Anticline,\n",
       " pk.Fold,\n",
       " pk.Antiform,\n",
       " pk.Assumed,\n",
       " pk.Certainty,\n",
       " pk.Code,\n",
       " pk.Information_Structure,\n",
       " pk.Complex_Modify,\n",
       " pk.Modifying_Entity_Process,\n",
       " pk.Conceptual_Anomaly,\n",
       " pk.Conceptual_Geological_Model,\n",
       " pk.Spatio_Temporal_Space,\n",
       " pk.Continuant,\n",
       " pk.Continuat_Aggregate,\n",
       " pk.Decision_Algorithm,\n",
       " pk.Decision_Process,\n",
       " pk.Deleting_Entity_Algorithm,\n",
       " pk.Deleting_Entity_Process,\n",
       " pk.Deterministic,\n",
       " pk.Technique,\n",
       " pk.Deterministic_Specification,\n",
       " pk.Disposition_To_Be_Deleted,\n",
       " pk.Disposition_To_Be_Enriched,\n",
       " pk.Disposition_To_Be_Modified,\n",
       " pk.Estimation_Process,\n",
       " pk.Evaluation,\n",
       " pk.Evaluation_Algorithm,\n",
       " pk.Excplicit_Modeling,\n",
       " pk.3D_Structural_Modeling,\n",
       " pk.Fault,\n",
       " pk.Geological_Structure,\n",
       " pk.Feature_Space,\n",
       " pk.Temporal_Space,\n",
       " pk.Shape,\n",
       " pk.Fold_Hinge,\n",
       " pk.Fold_Limb,\n",
       " pk.Functional_Entity,\n",
       " pk.Geologic_Entity,\n",
       " pk.Geologic_Situation,\n",
       " pk.Geological_Map_Legend,\n",
       " pk.Geological_Process,\n",
       " pk.Natural_Process,\n",
       " pk.Rock_Body,\n",
       " pk.Geological_Unit,\n",
       " pk.Hybrid,\n",
       " pk.Hybrid_Specification,\n",
       " pk.IA,\n",
       " pk.Syntax,\n",
       " pk.Implicit_Modeling,\n",
       " pk.Input,\n",
       " pk.Role,\n",
       " pk.Input_Selection,\n",
       " pk.Selection_Process,\n",
       " pk.Instantiating_Process,\n",
       " pk.Intelligent_Based,\n",
       " pk.Interpretation_Process,\n",
       " pk.Interpretation_Selection,\n",
       " pk.Interpreted,\n",
       " pk.Inverse_Fault,\n",
       " pk.Knowledge_Modeling,\n",
       " pk.Modeling_Process,\n",
       " pk.Kriging,\n",
       " pk.Location,\n",
       " pk.Logical_Reasoning_Based,\n",
       " pk.ML_Based,\n",
       " pk.ML_Specification,\n",
       " pk.Material_Entity,\n",
       " pk.Modifying_Entity_Algoirhtm,\n",
       " pk.Natural_Law,\n",
       " pk.Normal_Fault,\n",
       " pk.Objective_Specification,\n",
       " pk.Observation_Process,\n",
       " pk.Observed,\n",
       " pk.Occurent,\n",
       " pk.Output,\n",
       " pk.Part,\n",
       " pk.Probabilistic,\n",
       " pk.Procedure,\n",
       " pk.Quality_Anomaly,\n",
       " pk.RBF,\n",
       " pk.Random,\n",
       " pk.Random_Specification,\n",
       " pk.Reasoning_Based_Specification,\n",
       " pk.Reasoning_Process,\n",
       " pk.Representational_Quality,\n",
       " pk.Represented_Geological_Model,\n",
       " pk.Resolution,\n",
       " pk.Retrieving_Related_Information,\n",
       " pk.Scale,\n",
       " pk.Selection,\n",
       " pk.Selection_Algorithm,\n",
       " pk.Simple_Modify,\n",
       " pk.Situation_Selection,\n",
       " pk.Size,\n",
       " pk.Space_Time_Geological_Model,\n",
       " pk.Strategy,\n",
       " pk.Strike_Slip_Fault,\n",
       " pk.Summary,\n",
       " pk.Syncline,\n",
       " pk.Synform,\n",
       " pk.Unplanned_Process,\n",
       " pk.User_Based,\n",
       " pk.User_Based_Specification,\n",
       " pk.Wavelength,\n",
       " pk.Word,\n",
       " pk.Workflow,\n",
       " pk.1D,\n",
       " pk.2D,\n",
       " pk.3D]"
      ]
     },
     "execution_count": 3,
     "metadata": {},
     "output_type": "execute_result"
    }
   ],
   "source": [
    "list(ont.classes())"
   ]
  },
  {
   "cell_type": "code",
   "execution_count": 22,
   "id": "64927a1f-1cee-4926-8aeb-9b7f95fe01bf",
   "metadata": {
    "scrolled": true
   },
   "outputs": [
    {
     "name": "stderr",
     "output_type": "stream",
     "text": [
      "* Owlready2 * Running HermiT...\n",
      "    java -Xmx2000M -cp D:\\Anaconda\\envs\\test_all\\lib\\site-packages\\owlready2\\hermit;D:\\Anaconda\\envs\\test_all\\lib\\site-packages\\owlready2\\hermit\\HermiT.jar org.semanticweb.HermiT.cli.CommandLine -c -O -D -I file:///C:/Users/ilaouici/AppData/Local/Temp/tmpci8q6nv1\n",
      "* Owlready2 * HermiT took 1.9907636642456055 seconds\n",
      "* Owlready * Reparenting untitled-ontology-778.Abstract_Model: {untitled-ontology-778.ICE} => {untitled-ontology-778.ICE, untitled-ontology-778.Represented_Model}\n",
      "* Owlready * Reparenting untitled-ontology-778.IQE: {owl.Thing} => {untitled-ontology-778.Quality}\n",
      "* Owlready * Reparenting untitled-ontology-778.Planned_Process: {untitled-ontology-778.Process} => {untitled-ontology-778.Process, untitled-ontology-778.Represented_Model}\n",
      "* Owlready * Reparenting untitled-ontology-778.has_Structural_Part: {owl.ObjectProperty, untitled-ontology-778.has_Part} => {untitled-ontology-778.has_Part}\n",
      "* Owlready * Reparenting untitled-ontology-778.has_Anomalic_Part: {owl.ObjectProperty, untitled-ontology-778.has_Part} => {untitled-ontology-778.has_Part}\n",
      "* Owlready * Reparenting untitled-ontology-778.inheres_In: {owl.ObjectProperty, untitled-ontology-778.is_Specifically_Dependant_On} => {untitled-ontology-778.is_Specifically_Dependant_On}\n",
      "* Owlready * Reparenting untitled-ontology-778.satisfies: {owl.ObjectProperty, untitled-ontology-778.is_Specifically_Dependant_On} => {untitled-ontology-778.is_Specifically_Dependant_On}\n",
      "* Owlready * Reparenting untitled-ontology-778.is_Concretized_By: {owl.ObjectProperty, untitled-ontology-778.is_Generically_Dependant_On} => {untitled-ontology-778.has_Specific_Dependant, untitled-ontology-778.is_Generically_Dependant_On}\n",
      "* Owlready * Reparenting untitled-ontology-778.is_Satisfied_By: {owl.ObjectProperty, untitled-ontology-778.has_Specific_Dependant} => {untitled-ontology-778.has_Specific_Dependant}\n",
      "* Owlready * Reparenting untitled-ontology-778.is_Simplified_By: {owl.ObjectProperty, untitled-ontology-778.is_Subject_Of} => {untitled-ontology-778.is_Subject_Of}\n",
      "* Owlready * Reparenting untitled-ontology-778.is_Prescribed_By: {owl.ObjectProperty, untitled-ontology-778.is_Subject_Of} => {untitled-ontology-778.is_Subject_Of}\n",
      "* Owlready * Reparenting untitled-ontology-778.has_Output: {owl.ObjectProperty, untitled-ontology-778.has_Participant} => {untitled-ontology-778.has_Participant}\n",
      "* Owlready * Reparenting untitled-ontology-778.has_Input: {owl.ObjectProperty, untitled-ontology-778.has_Participant} => {untitled-ontology-778.has_Participant}\n",
      "* Owlready * Reparenting untitled-ontology-778.represents: {owl.ObjectProperty, untitled-ontology-778.concretizes} => {untitled-ontology-778.concretizes}\n",
      "* Owlready * Reparenting untitled-ontology-778.is_Structural_Part_Of: {owl.ObjectProperty, untitled-ontology-778.is_Part_Of} => {untitled-ontology-778.is_Part_Of}\n",
      "* Owlready * Reparenting untitled-ontology-778.is_Input_Of: {owl.ObjectProperty, untitled-ontology-778.participates_In} => {untitled-ontology-778.participates_In}\n",
      "* Owlready * Reparenting untitled-ontology-778.Interprets: {owl.ObjectProperty, untitled-ontology-778.is_About} => {untitled-ontology-778.is_About}\n",
      "* Owlready * Reparenting untitled-ontology-778.details: {owl.ObjectProperty, untitled-ontology-778.is_About} => {untitled-ontology-778.is_About}\n",
      "* Owlready * Reparenting untitled-ontology-778.designates: {owl.ObjectProperty, untitled-ontology-778.is_About} => {untitled-ontology-778.is_About}\n",
      "* Owlready * Reparenting untitled-ontology-778.simplifies: {owl.ObjectProperty, untitled-ontology-778.is_About} => {untitled-ontology-778.is_About}\n",
      "* Owlready * (NB: only changes on entities loaded in Python are shown, other changes are done but not listed)\n"
     ]
    }
   ],
   "source": [
    "sync_reasoner()"
   ]
  },
  {
   "cell_type": "code",
   "execution_count": 34,
   "id": "2899d137-232d-4afd-b96a-6c2375f77826",
   "metadata": {},
   "outputs": [],
   "source": []
  },
  {
   "cell_type": "code",
   "execution_count": 14,
   "id": "370fd7d9-b685-4507-8187-8fa871013fd5",
   "metadata": {},
   "outputs": [
    {
     "data": {
      "text/plain": [
       "[pk.Action_Spec_Deter_Tech1,\n",
       " pk.Algo_Selection_Algo1,\n",
       " pk.Obj_Spec_1_Selec1,\n",
       " pk.Info_1,\n",
       " pk.observed_origin,\n",
       " pk.sample_1_Carbo,\n",
       " pk.Info_2,\n",
       " pk.sample_2_Carbo,\n",
       " pk.Info_3,\n",
       " pk.sample_3_Perm,\n",
       " pk.Info_4,\n",
       " pk.sample_4_Perm,\n",
       " pk.Pro_Situation_Selec_Pr1,\n",
       " pk.Tech1_Deter1,\n",
       " pk.Situ_12_for_inter,\n",
       " pk.Situ_34_for_inter,\n",
       " pk.Selection_1_situ_for_interp,\n",
       " pk.action_spec_eva1_user_based,\n",
       " pk.action_spec_rand,\n",
       " pk.algo_decision,\n",
       " pk.algo_eva1,\n",
       " pk.obj_spec_eva1,\n",
       " pk.amplitude_fold1,\n",
       " pk.assumed_origin,\n",
       " pk.decision1_keep_model,\n",
       " pk.decision2_update_model,\n",
       " pk.decision3_delete_model,\n",
       " pk.evaluation_of_abstract_conc_model1,\n",
       " pk.model1_about_fold1_conc,\n",
       " pk.evaluation_of_abstract_time_space_model1,\n",
       " pk.scale_of_model_fold1,\n",
       " pk.model1_about_fold1_timespace_loc,\n",
       " pk.fold1,\n",
       " pk.location_fold1,\n",
       " pk.wavelength_fold1,\n",
       " pk.rock_part_holding_fold1,\n",
       " pk.imad_carboniferous_unit,\n",
       " pk.interpreted_origin,\n",
       " pk.obj_spec_decision,\n",
       " pk.pro_decision1,\n",
       " pk.pro_ev_abstr_time_spc1,\n",
       " pk.pro_ev_abstract_conc1,\n",
       " pk.resolutuion_of_represented_model_fold1,\n",
       " pk.shape_inheres_in_fold1_part,\n",
       " pk.tech_random,\n",
       " pk.tech_user_based,\n",
       " pk.3d_represented_model_fold1]"
      ]
     },
     "execution_count": 14,
     "metadata": {},
     "output_type": "execute_result"
    }
   ],
   "source": [
    "list(ont.individuals())"
   ]
  },
  {
   "cell_type": "code",
   "execution_count": 20,
   "id": "daed0363-a785-4444-abe7-8add80ef2824",
   "metadata": {},
   "outputs": [
    {
     "data": {
      "text/plain": [
       "[pk.has_Time_Stamp,\n",
       " pk.has_Unit_Of_Measure,\n",
       " pk.has_Value,\n",
       " pk.Interprets,\n",
       " pk.is_About,\n",
       " pk.Is_Output_Of,\n",
       " pk.participates_In,\n",
       " pk.has_Output,\n",
       " pk.Substitutes,\n",
       " pk.bearer_Of,\n",
       " pk.inheres_In,\n",
       " pk.concretizes,\n",
       " pk.is_Specifically_Dependant_On,\n",
       " pk.is_Concretized_By,\n",
       " pk.designates,\n",
       " pk.details,\n",
       " pk.is_Detailed_By,\n",
       " pk.explains,\n",
       " pk.is_Explained_By,\n",
       " pk.governs,\n",
       " pk.is_Governed_By,\n",
       " pk.has_Action_Specification,\n",
       " pk.has_Anomalic_Part,\n",
       " pk.has_Part,\n",
       " pk.is_Anomalic_Part_Of,\n",
       " pk.has_Dimension,\n",
       " pk.has_Disposition_To,\n",
       " pk.has_Disposition_To_Be_Represented_In,\n",
       " pk.has_Evaluation,\n",
       " pk.is_Evlauation_Of,\n",
       " pk.has_Generic_Dependant,\n",
       " pk.is_Generically_Dependant_On,\n",
       " pk.has_Input,\n",
       " pk.has_Participant,\n",
       " pk.is_Input_Of,\n",
       " pk.has_Objective_Specification,\n",
       " pk.has_Origin,\n",
       " pk.is_Part_Of,\n",
       " pk.has_Quality,\n",
       " pk.has_Shape,\n",
       " pk.has_Specific_Dependant,\n",
       " pk.has_Structural_Part,\n",
       " pk.is_Structural_Part_Of,\n",
       " pk.is_Subject_Of,\n",
       " pk.is_Origin_Quality_Of,\n",
       " pk.is_Prescribed_By,\n",
       " pk.prescribes,\n",
       " pk.is_Satisfied_By,\n",
       " pk.satisfies,\n",
       " pk.is_Simplified_By,\n",
       " pk.simplifies,\n",
       " pk.plays_Role,\n",
       " pk.realizes,\n",
       " pk.represents,\n",
       " pk.Criteria_For_Selection]"
      ]
     },
     "execution_count": 20,
     "metadata": {},
     "output_type": "execute_result"
    }
   ],
   "source": [
    "list(ont.properties())\n"
   ]
  },
  {
   "cell_type": "code",
   "execution_count": null,
   "id": "10dc04db-f9de-47d8-aa26-802791abeaa7",
   "metadata": {},
   "outputs": [],
   "source": []
  },
  {
   "cell_type": "code",
   "execution_count": 13,
   "id": "5765f505-90eb-488d-b3cd-0646dcb3311a",
   "metadata": {},
   "outputs": [
    {
     "name": "stderr",
     "output_type": "stream",
     "text": [
      "* Owlready2 * Running HermiT...\n",
      "    java -Xmx2000M -cp D:\\Anaconda\\envs\\test_all\\lib\\site-packages\\owlready2\\hermit;D:\\Anaconda\\envs\\test_all\\lib\\site-packages\\owlready2\\hermit\\HermiT.jar org.semanticweb.HermiT.cli.CommandLine -c -O -D -I file:///C:/Users/ilaouici/AppData/Local/Temp/tmppydd14n4 -Y\n",
      "* Owlready2 * HermiT took 0.6618824005126953 seconds\n",
      "* Owlready * Reparenting pk.is_Structural_Part_Of: {pk.is_Part_Of, owl.ObjectProperty} => {pk.is_Part_Of}\n",
      "* Owlready * Reparenting pk.simplifies: {pk.is_About, owl.ObjectProperty} => {pk.is_About}\n",
      "* Owlready * Reparenting pk.prescribes: {pk.is_About, owl.ObjectProperty} => {pk.is_About}\n",
      "* Owlready * Reparenting pk.details: {pk.is_About, owl.ObjectProperty} => {pk.is_About}\n",
      "* Owlready * Reparenting pk.concretizes: {pk.is_Specifically_Dependant_On, owl.ObjectProperty} => {pk.has_Generic_Dependant, pk.is_Specifically_Dependant_On}\n",
      "* Owlready * Reparenting pk.is_Detailed_By: {owl.ObjectProperty, pk.is_Subject_Of} => {pk.is_Subject_Of}\n",
      "* Owlready * Reparenting pk.is_Simplified_By: {owl.ObjectProperty, pk.is_Subject_Of} => {pk.is_Subject_Of}\n",
      "* Owlready * (NB: only changes on entities loaded in Python are shown, other changes are done but not listed)\n"
     ]
    }
   ],
   "source": [
    "sync_reasoner(infer_property_values= True)"
   ]
  },
  {
   "cell_type": "code",
   "execution_count": 4,
   "id": "f24dbf7b-c936-4ff1-a9f3-83a6f010f373",
   "metadata": {},
   "outputs": [
    {
     "data": {
      "text/plain": [
       "[]"
      ]
     },
     "execution_count": 4,
     "metadata": {},
     "output_type": "execute_result"
    }
   ],
   "source": [
    "ont.algo_decision.is_About"
   ]
  },
  {
   "cell_type": "code",
   "execution_count": 6,
   "id": "6531a122-9fff-4746-a51e-6ba4ab6b580f",
   "metadata": {},
   "outputs": [
    {
     "data": {
      "text/plain": [
       "[pk.pro_decision1]"
      ]
     },
     "execution_count": 6,
     "metadata": {},
     "output_type": "execute_result"
    }
   ],
   "source": [
    "ont.algo_decision.prescribes"
   ]
  },
  {
   "cell_type": "code",
   "execution_count": 2,
   "id": "84b14641-0f7c-41a2-b035-293901340085",
   "metadata": {},
   "outputs": [],
   "source": [
    "oc = get_ontology(\"test_cat.owl\").load()"
   ]
  },
  {
   "cell_type": "code",
   "execution_count": 5,
   "id": "025100b4-b867-4db1-814c-304e2e319fb2",
   "metadata": {},
   "outputs": [
    {
     "data": {
      "text/plain": [
       "[test_cat.cat]"
      ]
     },
     "execution_count": 5,
     "metadata": {},
     "output_type": "execute_result"
    }
   ],
   "source": [
    "oc.c1.is_a"
   ]
  },
  {
   "cell_type": "code",
   "execution_count": 4,
   "id": "86746ddf-2ce9-4d22-8e8d-03094b399fae",
   "metadata": {},
   "outputs": [
    {
     "name": "stderr",
     "output_type": "stream",
     "text": [
      "* Owlready2 * Running Pellet...\n",
      "    java -Xmx2000M -cp D:\\Anaconda\\envs\\test_all\\lib\\site-packages\\owlready2\\pellet\\antlr-3.2.jar;D:\\Anaconda\\envs\\test_all\\lib\\site-packages\\owlready2\\pellet\\antlr-runtime-3.2.jar;D:\\Anaconda\\envs\\test_all\\lib\\site-packages\\owlready2\\pellet\\aterm-java-1.6.jar;D:\\Anaconda\\envs\\test_all\\lib\\site-packages\\owlready2\\pellet\\commons-codec-1.6.jar;D:\\Anaconda\\envs\\test_all\\lib\\site-packages\\owlready2\\pellet\\httpclient-4.2.3.jar;D:\\Anaconda\\envs\\test_all\\lib\\site-packages\\owlready2\\pellet\\httpcore-4.2.2.jar;D:\\Anaconda\\envs\\test_all\\lib\\site-packages\\owlready2\\pellet\\jcl-over-slf4j-1.6.4.jar;D:\\Anaconda\\envs\\test_all\\lib\\site-packages\\owlready2\\pellet\\jena-arq-2.10.0.jar;D:\\Anaconda\\envs\\test_all\\lib\\site-packages\\owlready2\\pellet\\jena-core-2.10.0.jar;D:\\Anaconda\\envs\\test_all\\lib\\site-packages\\owlready2\\pellet\\jena-iri-0.9.5.jar;D:\\Anaconda\\envs\\test_all\\lib\\site-packages\\owlready2\\pellet\\jena-tdb-0.10.0.jar;D:\\Anaconda\\envs\\test_all\\lib\\site-packages\\owlready2\\pellet\\jgrapht-jdk1.5.jar;D:\\Anaconda\\envs\\test_all\\lib\\site-packages\\owlready2\\pellet\\log4j-1.2.16.jar;D:\\Anaconda\\envs\\test_all\\lib\\site-packages\\owlready2\\pellet\\owlapi-distribution-3.4.3-bin.jar;D:\\Anaconda\\envs\\test_all\\lib\\site-packages\\owlready2\\pellet\\pellet-2.3.1.jar;D:\\Anaconda\\envs\\test_all\\lib\\site-packages\\owlready2\\pellet\\slf4j-api-1.6.4.jar;D:\\Anaconda\\envs\\test_all\\lib\\site-packages\\owlready2\\pellet\\slf4j-log4j12-1.6.4.jar;D:\\Anaconda\\envs\\test_all\\lib\\site-packages\\owlready2\\pellet\\xercesImpl-2.10.0.jar;D:\\Anaconda\\envs\\test_all\\lib\\site-packages\\owlready2\\pellet\\xml-apis-1.4.01.jar pellet.Pellet realize --loader Jena --input-format N-Triples --infer-prop-values --infer-data-prop-values --ignore-imports C:\\Users\\ilaouici\\AppData\\Local\\Temp\\tmpve18ezdi\n",
      "* Owlready2 * Pellet took 5.0097198486328125 seconds\n",
      "* Owlready * Reparenting test_cat.c1: {owl.Thing} => {test_cat.cat}\n",
      "* Owlready * (NB: only changes on entities loaded in Python are shown, other changes are done but not listed)\n"
     ]
    }
   ],
   "source": [
    "sync_reasoner_pellet(infer_property_values = True, infer_data_property_values = True)"
   ]
  }
 ],
 "metadata": {
  "kernelspec": {
   "display_name": "Python 3 (ipykernel)",
   "language": "python",
   "name": "python3"
  },
  "language_info": {
   "codemirror_mode": {
    "name": "ipython",
    "version": 3
   },
   "file_extension": ".py",
   "mimetype": "text/x-python",
   "name": "python",
   "nbconvert_exporter": "python",
   "pygments_lexer": "ipython3",
   "version": "3.10.12"
  }
 },
 "nbformat": 4,
 "nbformat_minor": 5
}
